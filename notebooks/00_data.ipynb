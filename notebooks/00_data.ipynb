{
 "cells": [
  {
   "attachments": {},
   "cell_type": "markdown",
   "metadata": {},
   "source": [
    "# Introduction"
   ]
  },
  {
   "attachments": {},
   "cell_type": "markdown",
   "metadata": {},
   "source": [
    "This notebook uploads some data to Weaviate for use in the Fixie Agent demo."
   ]
  },
  {
   "attachments": {},
   "cell_type": "markdown",
   "metadata": {},
   "source": [
    "# Imports"
   ]
  },
  {
   "cell_type": "code",
   "execution_count": 1,
   "metadata": {},
   "outputs": [],
   "source": [
    "import weaviate\n",
    "import os"
   ]
  },
  {
   "cell_type": "markdown",
   "metadata": {},
   "source": [
    "# Setup"
   ]
  },
  {
   "attachments": {},
   "cell_type": "markdown",
   "metadata": {},
   "source": [
    "Create the client:"
   ]
  },
  {
   "cell_type": "code",
   "execution_count": 2,
   "metadata": {},
   "outputs": [],
   "source": [
    "weaviate_url = os.environ[\"WEAVIATE_URL\"]\n",
    "open_ai_key = os.environ[\"OPENAI_API_KEY\"]\n",
    "\n",
    "client = weaviate.Client(\n",
    "    url=weaviate_url, additional_headers={\"X-Openai-Api-Key\": open_ai_key}\n",
    ")"
   ]
  },
  {
   "attachments": {},
   "cell_type": "markdown",
   "metadata": {},
   "source": [
    "# Schema"
   ]
  },
  {
   "attachments": {},
   "cell_type": "markdown",
   "metadata": {},
   "source": [
    "Define a schema to store an article:"
   ]
  },
  {
   "cell_type": "code",
   "execution_count": 3,
   "metadata": {},
   "outputs": [],
   "source": [
    "client.schema.delete_all()\n",
    "\n",
    "schema = {\n",
    "    \"class\": \"Article\",\n",
    "    \"vectorizer\": \"text2vec-openai\",\n",
    "    \"properties\": [\n",
    "        {\"name\": \"author\", \"dataType\": [\"text\"]},\n",
    "        {\"name\": \"title\", \"dataType\": [\"text\"]},\n",
    "        {\"name\": \"summary\", \"dataType\": [\"text\"]},\n",
    "        {\"name\": \"genre\", \"dataType\": [\"text\"]},\n",
    "    ],\n",
    "}"
   ]
  },
  {
   "attachments": {},
   "cell_type": "markdown",
   "metadata": {},
   "source": [
    "# Data"
   ]
  },
  {
   "attachments": {},
   "cell_type": "markdown",
   "metadata": {},
   "source": [
    "Create 5 interesting articles:"
   ]
  },
  {
   "cell_type": "code",
   "execution_count": 4,
   "metadata": {},
   "outputs": [],
   "source": [
    "articles = [\n",
    "    {\n",
    "        \"author\": \"Jane Smith\",\n",
    "        \"title\": \"Polar Bears on Treadmills: Climate Change and Animal Adaptation\",\n",
    "        \"genre\": \"Environmental Science\",\n",
    "        \"summary\": \"This article explores the impact of climate change on wildlife, with a focus on how polar bears and other animals are adapting to their changing environments through unique and unexpected behaviors.\",\n",
    "    },\n",
    "    {\n",
    "        \"author\": \"Michael Brown\",\n",
    "        \"title\": \"Robots in Love: Exploring Emotional Intelligence in AI\",\n",
    "        \"genre\": \"Technology\",\n",
    "        \"summary\": \"Delving into the world of artificial intelligence, this piece investigates the development of emotional intelligence in robots and how it can lead to more empathetic and human-like interactions.\",\n",
    "    },\n",
    "    {\n",
    "        \"author\": \"Jane Smith\",\n",
    "        \"title\": \"Meditation with Meows: Practicing Mindfulness with Your Cat\",\n",
    "        \"genre\": \"Wellness\",\n",
    "        \"summary\": \"Discover the benefits of incorporating your cat into your meditation routine, fostering a deeper bond with your pet while reaping the calming and stress-reducing advantages of mindfulness.\",\n",
    "    },\n",
    "    {\n",
    "        \"author\": \"Michael Brown\",\n",
    "        \"title\": \"The Self-Driving Bicycle: When AI Hits the Bike Lane\",\n",
    "        \"genre\": \"Technology\",\n",
    "        \"summary\": \"This article examines the advancements in AI-powered transportation, specifically focusing on the concept of a self-driving bicycle, its potential benefits, and challenges it may face.\",\n",
    "    },\n",
    "    {\n",
    "        \"author\": \"Jane Smith\",\n",
    "        \"title\": \"Eating Green: How Plants Contribute to a Healthy Diet\",\n",
    "        \"genre\": \"Environmental Science\",\n",
    "        \"summary\": \"Explore the nutritional benefits of incorporating more plant-based foods into your diet, as well as the positive environmental impact of reducing meat consumption and supporting sustainable agriculture.\",\n",
    "    },\n",
    "]"
   ]
  },
  {
   "attachments": {},
   "cell_type": "markdown",
   "metadata": {},
   "source": [
    "# Upload"
   ]
  },
  {
   "attachments": {},
   "cell_type": "markdown",
   "metadata": {},
   "source": [
    "Upload and check the results:"
   ]
  },
  {
   "cell_type": "code",
   "execution_count": 5,
   "metadata": {},
   "outputs": [],
   "source": [
    "with client.batch as batch:\n",
    "    for article in articles:\n",
    "        batch.add_data_object(article, \"Article\")"
   ]
  },
  {
   "cell_type": "code",
   "execution_count": 6,
   "metadata": {},
   "outputs": [],
   "source": [
    "assert client.data_object.get()[\"totalResults\"] == 5"
   ]
  }
 ],
 "metadata": {
  "kernelspec": {
   "display_name": "Python 3",
   "language": "python",
   "name": "python3"
  },
  "language_info": {
   "codemirror_mode": {
    "name": "ipython",
    "version": 3
   },
   "file_extension": ".py",
   "mimetype": "text/x-python",
   "name": "python",
   "nbconvert_exporter": "python",
   "pygments_lexer": "ipython3",
   "version": "3.11.1"
  },
  "orig_nbformat": 4
 },
 "nbformat": 4,
 "nbformat_minor": 2
}
